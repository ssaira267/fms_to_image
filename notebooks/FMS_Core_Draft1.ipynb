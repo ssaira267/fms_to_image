{
 "cells": [
  {
   "cell_type": "code",
   "execution_count": 4,
   "metadata": {
    "ExecuteTime": {
     "end_time": "2021-09-28T10:21:47.996540Z",
     "start_time": "2021-09-28T10:21:47.438795Z"
    }
   },
   "outputs": [],
   "source": [
    "import dlisio\n",
    "import pandas as pd\n",
    "import numpy as np\n",
    "import cv2"
   ]
  },
  {
   "cell_type": "code",
   "execution_count": 5,
   "metadata": {
    "ExecuteTime": {
     "end_time": "2021-09-28T11:42:08.275427Z",
     "start_time": "2021-09-28T11:42:08.259033Z"
    }
   },
   "outputs": [],
   "source": [
    "#FMS\n",
    "def open_fms(filename:str) -> pd.DataFrame:\n",
    "    f, *f_tail = dlisio.load(filename)\n",
    "    if len(f_tail): logging.warning('There are more logical files in tail')\n",
    "    \n",
    "    frame =f.object('FRAME','1B').curves()\n",
    "    \n",
    "    df = pd.DataFrame(frame)\n",
    "    df[\"TDEP\"]=df[\"TDEP\"]* 0.00254\n",
    "    df.drop([\"FRAMENO\"], axis=1, inplace=True)\n",
    "    \n",
    "    #df = normalize_values(df)\n",
    "    \n",
    "    \n",
    "   # cols_list = [['TDEP','BA11', 'BA12', 'BA13', 'BA14', 'BA15', 'BA16', 'BA17', 'BA18', \n",
    "   #          'BA21','BA22', 'BA23', 'BA24', 'BA25', 'BA26', 'BA27', 'BA28'],\n",
    "   #         ['TDEP','BB11', 'BB12', 'BB13', 'BB14', 'BB15', 'BB16', 'BB17', 'BB18', \n",
    "   #          'BB21','BB22', 'BB23', 'BB24', 'BB25', 'BB26', 'BB27', 'BB28'],\n",
    "   #         ['TDEP','BC11', 'BC12', 'BC13', 'BC14', 'BC15', 'BC16', 'BC17', 'BC18', \n",
    "   #          'BC21','BC22', 'BC23', 'BC24', 'BC25', 'BC26', 'BC27', 'BC28']]\n",
    "\n",
    "    \n",
    "    #pads = [df[cols].copy() for cols in cols_list]\n",
    "    #pads_norm = [normalize_values(pad) for pad in pads]\n",
    "    #pads_concatenated = [concatenate_normalized(pad) for pad in pads_norm]  \n",
    "    return normalize_values(df)\n",
    "\n",
    "def normalize_values(data:pd.DataFrame) -> pd.DataFrame:\n",
    "    TDEP= data['TDEP'].copy()\n",
    "    data.drop(['TDEP'], axis=1, inplace=True)\n",
    "    MAX_FMS_VALUE = 100\n",
    "    data = (data-data.min())/(MAX_FMS_VALUE-data.min())*255\n",
    "    data['TDEP'] = TDEP        \n",
    "    return data\n",
    "\n",
    "def concatenate_normalized(data:pd.DataFrame) -> pd.DataFrame:\n",
    "    print(data.columns)\n",
    "    fms1df = data[['BA11', 'BA12', 'BA13', 'BA14', 'BA15', 'BA16', 'BA17', 'BA18', \n",
    "                   'BA21','BA22', 'BA23', 'BA24', 'BA25', 'BA26', 'BA27', 'BA28']].copy()\n",
    "    fms2df = data[['BB11', 'BB12', 'BB13', 'BB14', 'BB15', 'BB16', 'BB17', 'BB18', \n",
    "                   'BB21','BB22', 'BB23', 'BB24', 'BB25', 'BB26', 'BB27', 'BB28']].copy()\n",
    "    fms3df = data[['BC11', 'BC12', 'BC13', 'BC14', 'BC15', 'BC16', 'BC17', 'BC18', \n",
    "                   'BC21','BC22', 'BC23', 'BC24', 'BC25', 'BC26', 'BC27', 'BC28']].copy()\n",
    "    fms123df = pd.concat([fms1df, fms2df, fms3df], axis=1, join=\"inner\")\n",
    "    return data\n",
    "\n",
    "def core_info(filename:str)-> pd.DataFrame:\n",
    "    data = pd.read_csv(filename)\n",
    "    data['max_depth'] = data['min_depth']+data['core_v_pixel']/20000\n",
    "    print((data['core_v_pixel']-data['core_v_pixel']%512)/512)\n",
    "    return data\n",
    "\n",
    "def FMS_to_core(data:pd.DataFrame):\n",
    "    FMS_list= []\n",
    "    for index, interval in core_info.iterrows():\n",
    "        min_depth = core_info.min_depth\n",
    "        max_depth = core_info.max_depth\n",
    "        FMS_coredepth = (open_fms[(open_fms['TDEP']>=min_depth) & (open_fms['TDEP']<=max_depth)])\n",
    "        FMS_nparray=create_FMS_image(FMS_coredepth)\n",
    "        FMS_list.append(FMS_nparray)\n",
    "    return FMS_list\n",
    "\n",
    "def create_FMS_image(FMS_list):\n",
    "    FMS123 = FMS_list([\"BA11\",\"BB11\",\"BC11\",\"BA12\",\"BB12\",\"BC12\",\n",
    "                       \"BA13\",\"BB13\",\"BC13\",\"BA14\",\"BB14\",\"BC14\",\n",
    "                       \"BA15\",\"BB15\",\"BC15\",\"BA16\",\"BB16\",\"BC16\",\n",
    "                       \"BA17\",\"BB17\",\"BC17\",\"BA18\",\"BB18\",\"BC18\",\n",
    "                       \"BA21\",\"BB21\",\"BC21\",\"BA22\",\"BB22\",\"BC22\",\n",
    "                       \"BA23\",\"BB23\",\"BC23\",\"BA24\",\"BB24\",\"BC24\",\n",
    "                       \"BA25\",\"BB25\",\"BC25\",\"BA26\",\"BB26\",\"BC26\",\n",
    "                       \"BA27\",\"BB27\",\"BC27\",\"BA28\",\"BB28\",\"BC28\"]) \n",
    "    FMS123_array = FMS123.values\n",
    "    FMS123_reshaped = FMS123_array.reshape(len(FMS123),16,3).astype(np.uint8)\n",
    "    print(FMS123_reshaped.shape)\n",
    "    return FMS123_reshaped\n",
    "\n",
    "def resize_FMS_image(img, dim, interpolation=cv2.INTER_LANCZOS4):\n",
    "    width = 512\n",
    "    height = core_info['core_v_pixel']\n",
    "    dim = (width, height)\n",
    "    FMS= cv2.resize(FMS_img, dim, interpolation)\n",
    "    return image\n",
    "\n",
    "def save_FMS_image(img):\n",
    "    cv2.imwrite()\n",
    "    \n",
    "\n",
    "def slice_FMS(img, overlap=0.5):\n",
    "    slice_dim = 512\n",
    "    stride = int((1-overlap)*slice_dim)\n",
    "    FMS_images = int(img.shape[0]/stride)-1\n",
    "    \n",
    "    FMS_slices= []\n",
    "    for i in range(FMS_images):\n",
    "        slice = img[i:i+slice_dim, :]\n",
    "        FMS_slices.append(slice)\n",
    "        name = f'{filename}_splitted'\n",
    "        frmt = 'jpg'\n",
    "        cv2.imwrite('{}_{}.{}'.format(name, i, frmt), slice)\n",
    "        \n",
    "        print(f'Succesfully created {FMS_images} images')\n",
    "        return FMS_slices"
   ]
  },
  {
   "cell_type": "code",
   "execution_count": 6,
   "metadata": {},
   "outputs": [],
   "source": [
    "#CORE\n",
    "def crop_slice_image(filename:str):\n",
    "    '''crops the core images width to 512pixel from mid +-256pixels'''\n",
    "    img = cv2.imread(filename)\n",
    "    img_h, img_w, _ = img.shape\n",
    "    w1, h1 = int(img_w/2)-256, int(img_h)\n",
    "    cropped_image = img[w1:w1+512, 0:h1]\n",
    "    if cropped_image.shape[0]<512:\n",
    "        return [] # return an empty list if the image is not big enough. Otherwise continues the code below...\n",
    "\n",
    "    sliced_image = [slice_image(cropped_image,filename) for cropped_image in img]\n",
    "    return sliced_image\n",
    "\n",
    "def slice_image(img, filename, overlap=0.5):\n",
    "    '''slice the core images to 512x512 pixel and overlaps images by 50%.\n",
    "    Notice that I take the cropped image as my input to the function'''\n",
    "    slice_dim = 512\n",
    "    stride = int((1-overlap)*slice_dim) #The stride in pixel is simply the overlap time the pixel dimentions\n",
    "    nb_images = int(img.shape[0]/stride)-1\n",
    "    #The total number of image is equal to how many full strides you can fit minus 1!\n",
    "    \n",
    "    # Now let's do a loop between 0 and the total number of images, and save the images:\n",
    "    slices = []\n",
    "    \n",
    "    for i in range(nb_images):\n",
    "        for j in range (nb_images):\n",
    "            slice = img[i:i+slice_dim, :]\n",
    "            slices.append(slice)\n",
    "            name = f'{filename}_splitted'\n",
    "            frmt = 'jpg'\n",
    "            cv2.imwrite('{}_{}.{}'.format(name, i, frmt), slice)\n",
    "        \n",
    "    print(f'Succesfully created {nb_images} images')\n",
    "    return slices\n"
   ]
  },
  {
   "cell_type": "code",
   "execution_count": 8,
   "metadata": {
    "ExecuteTime": {
     "end_time": "2021-09-28T11:23:52.173643Z",
     "start_time": "2021-09-28T11:23:51.489207Z"
    },
    "scrolled": true
   },
   "outputs": [
    {
     "ename": "KeyError",
     "evalue": "\"None of [Index(['BB11', 'BB12', 'BB13', 'BB14', 'BB15', 'BB16', 'BB17', 'BB18', 'BB21',\\n       'BB22', 'BB23', 'BB24', 'BB25', 'BB26', 'BB27', 'BB28'],\\n      dtype='object')] are in the [columns]\"",
     "output_type": "error",
     "traceback": [
      "\u001b[0;31m---------------------------------------------------------------------------\u001b[0m",
      "\u001b[0;31mKeyError\u001b[0m                                  Traceback (most recent call last)",
      "\u001b[0;32m<ipython-input-8-5605068ada52>\u001b[0m in \u001b[0;36m<module>\u001b[0;34m\u001b[0m\n\u001b[0;32m----> 1\u001b[0;31m \u001b[0mopen_fms\u001b[0m\u001b[0;34m(\u001b[0m\u001b[0;34m'../raw_data/MESTB _009_1B.dlis'\u001b[0m\u001b[0;34m)\u001b[0m\u001b[0;34m\u001b[0m\u001b[0;34m\u001b[0m\u001b[0m\n\u001b[0m",
      "\u001b[0;32m<ipython-input-5-4a3eed7a385c>\u001b[0m in \u001b[0;36mopen_fms\u001b[0;34m(filename)\u001b[0m\n\u001b[1;32m     21\u001b[0m     \u001b[0mpads\u001b[0m \u001b[0;34m=\u001b[0m \u001b[0;34m[\u001b[0m\u001b[0mdf\u001b[0m\u001b[0;34m[\u001b[0m\u001b[0mcols\u001b[0m\u001b[0;34m]\u001b[0m\u001b[0;34m.\u001b[0m\u001b[0mcopy\u001b[0m\u001b[0;34m(\u001b[0m\u001b[0;34m)\u001b[0m \u001b[0;32mfor\u001b[0m \u001b[0mcols\u001b[0m \u001b[0;32min\u001b[0m \u001b[0mcols_list\u001b[0m\u001b[0;34m]\u001b[0m\u001b[0;34m\u001b[0m\u001b[0;34m\u001b[0m\u001b[0m\n\u001b[1;32m     22\u001b[0m     \u001b[0mpads_norm\u001b[0m \u001b[0;34m=\u001b[0m \u001b[0;34m[\u001b[0m\u001b[0mnormalize_values\u001b[0m\u001b[0;34m(\u001b[0m\u001b[0mpad\u001b[0m\u001b[0;34m)\u001b[0m \u001b[0;32mfor\u001b[0m \u001b[0mpad\u001b[0m \u001b[0;32min\u001b[0m \u001b[0mpads\u001b[0m\u001b[0;34m]\u001b[0m\u001b[0;34m\u001b[0m\u001b[0;34m\u001b[0m\u001b[0m\n\u001b[0;32m---> 23\u001b[0;31m     \u001b[0mpads_concatenated\u001b[0m \u001b[0;34m=\u001b[0m \u001b[0;34m[\u001b[0m\u001b[0mconcatenate_normalized\u001b[0m\u001b[0;34m(\u001b[0m\u001b[0mpad\u001b[0m\u001b[0;34m)\u001b[0m \u001b[0;32mfor\u001b[0m \u001b[0mpad\u001b[0m \u001b[0;32min\u001b[0m \u001b[0mpads_norm\u001b[0m\u001b[0;34m]\u001b[0m\u001b[0;34m\u001b[0m\u001b[0;34m\u001b[0m\u001b[0m\n\u001b[0m\u001b[1;32m     24\u001b[0m     \u001b[0;32mreturn\u001b[0m \u001b[0mpads_concatenated\u001b[0m\u001b[0;34m\u001b[0m\u001b[0;34m\u001b[0m\u001b[0m\n\u001b[1;32m     25\u001b[0m \u001b[0;34m\u001b[0m\u001b[0m\n",
      "\u001b[0;32m<ipython-input-5-4a3eed7a385c>\u001b[0m in \u001b[0;36m<listcomp>\u001b[0;34m(.0)\u001b[0m\n\u001b[1;32m     21\u001b[0m     \u001b[0mpads\u001b[0m \u001b[0;34m=\u001b[0m \u001b[0;34m[\u001b[0m\u001b[0mdf\u001b[0m\u001b[0;34m[\u001b[0m\u001b[0mcols\u001b[0m\u001b[0;34m]\u001b[0m\u001b[0;34m.\u001b[0m\u001b[0mcopy\u001b[0m\u001b[0;34m(\u001b[0m\u001b[0;34m)\u001b[0m \u001b[0;32mfor\u001b[0m \u001b[0mcols\u001b[0m \u001b[0;32min\u001b[0m \u001b[0mcols_list\u001b[0m\u001b[0;34m]\u001b[0m\u001b[0;34m\u001b[0m\u001b[0;34m\u001b[0m\u001b[0m\n\u001b[1;32m     22\u001b[0m     \u001b[0mpads_norm\u001b[0m \u001b[0;34m=\u001b[0m \u001b[0;34m[\u001b[0m\u001b[0mnormalize_values\u001b[0m\u001b[0;34m(\u001b[0m\u001b[0mpad\u001b[0m\u001b[0;34m)\u001b[0m \u001b[0;32mfor\u001b[0m \u001b[0mpad\u001b[0m \u001b[0;32min\u001b[0m \u001b[0mpads\u001b[0m\u001b[0;34m]\u001b[0m\u001b[0;34m\u001b[0m\u001b[0;34m\u001b[0m\u001b[0m\n\u001b[0;32m---> 23\u001b[0;31m     \u001b[0mpads_concatenated\u001b[0m \u001b[0;34m=\u001b[0m \u001b[0;34m[\u001b[0m\u001b[0mconcatenate_normalized\u001b[0m\u001b[0;34m(\u001b[0m\u001b[0mpad\u001b[0m\u001b[0;34m)\u001b[0m \u001b[0;32mfor\u001b[0m \u001b[0mpad\u001b[0m \u001b[0;32min\u001b[0m \u001b[0mpads_norm\u001b[0m\u001b[0;34m]\u001b[0m\u001b[0;34m\u001b[0m\u001b[0;34m\u001b[0m\u001b[0m\n\u001b[0m\u001b[1;32m     24\u001b[0m     \u001b[0;32mreturn\u001b[0m \u001b[0mpads_concatenated\u001b[0m\u001b[0;34m\u001b[0m\u001b[0;34m\u001b[0m\u001b[0m\n\u001b[1;32m     25\u001b[0m \u001b[0;34m\u001b[0m\u001b[0m\n",
      "\u001b[0;32m<ipython-input-5-4a3eed7a385c>\u001b[0m in \u001b[0;36mconcatenate_normalized\u001b[0;34m(data)\u001b[0m\n\u001b[1;32m     35\u001b[0m                    'BA21','BA22', 'BA23', 'BA24', 'BA25', 'BA26', 'BA27', 'BA28']]\n\u001b[1;32m     36\u001b[0m     fms2df = data[['BB11', 'BB12', 'BB13', 'BB14', 'BB15', 'BB16', 'BB17', 'BB18', \n\u001b[0;32m---> 37\u001b[0;31m                    'BB21','BB22', 'BB23', 'BB24', 'BB25', 'BB26', 'BB27', 'BB28']]\n\u001b[0m\u001b[1;32m     38\u001b[0m     fms3df = data[['BC11', 'BC12', 'BC13', 'BC14', 'BC15', 'BC16', 'BC17', 'BC18', \n\u001b[1;32m     39\u001b[0m                    'BC21','BC22', 'BC23', 'BC24', 'BC25', 'BC26', 'BC27', 'BC28']]\n",
      "\u001b[0;32m~/opt/anaconda3/lib/python3.7/site-packages/pandas/core/frame.py\u001b[0m in \u001b[0;36m__getitem__\u001b[0;34m(self, key)\u001b[0m\n\u001b[1;32m   2804\u001b[0m             \u001b[0;32mif\u001b[0m \u001b[0mis_iterator\u001b[0m\u001b[0;34m(\u001b[0m\u001b[0mkey\u001b[0m\u001b[0;34m)\u001b[0m\u001b[0;34m:\u001b[0m\u001b[0;34m\u001b[0m\u001b[0;34m\u001b[0m\u001b[0m\n\u001b[1;32m   2805\u001b[0m                 \u001b[0mkey\u001b[0m \u001b[0;34m=\u001b[0m \u001b[0mlist\u001b[0m\u001b[0;34m(\u001b[0m\u001b[0mkey\u001b[0m\u001b[0;34m)\u001b[0m\u001b[0;34m\u001b[0m\u001b[0;34m\u001b[0m\u001b[0m\n\u001b[0;32m-> 2806\u001b[0;31m             \u001b[0mindexer\u001b[0m \u001b[0;34m=\u001b[0m \u001b[0mself\u001b[0m\u001b[0;34m.\u001b[0m\u001b[0mloc\u001b[0m\u001b[0;34m.\u001b[0m\u001b[0m_get_listlike_indexer\u001b[0m\u001b[0;34m(\u001b[0m\u001b[0mkey\u001b[0m\u001b[0;34m,\u001b[0m \u001b[0maxis\u001b[0m\u001b[0;34m=\u001b[0m\u001b[0;36m1\u001b[0m\u001b[0;34m,\u001b[0m \u001b[0mraise_missing\u001b[0m\u001b[0;34m=\u001b[0m\u001b[0;32mTrue\u001b[0m\u001b[0;34m)\u001b[0m\u001b[0;34m[\u001b[0m\u001b[0;36m1\u001b[0m\u001b[0;34m]\u001b[0m\u001b[0;34m\u001b[0m\u001b[0;34m\u001b[0m\u001b[0m\n\u001b[0m\u001b[1;32m   2807\u001b[0m \u001b[0;34m\u001b[0m\u001b[0m\n\u001b[1;32m   2808\u001b[0m         \u001b[0;31m# take() does not accept boolean indexers\u001b[0m\u001b[0;34m\u001b[0m\u001b[0;34m\u001b[0m\u001b[0;34m\u001b[0m\u001b[0m\n",
      "\u001b[0;32m~/opt/anaconda3/lib/python3.7/site-packages/pandas/core/indexing.py\u001b[0m in \u001b[0;36m_get_listlike_indexer\u001b[0;34m(self, key, axis, raise_missing)\u001b[0m\n\u001b[1;32m   1550\u001b[0m \u001b[0;34m\u001b[0m\u001b[0m\n\u001b[1;32m   1551\u001b[0m         self._validate_read_indexer(\n\u001b[0;32m-> 1552\u001b[0;31m             \u001b[0mkeyarr\u001b[0m\u001b[0;34m,\u001b[0m \u001b[0mindexer\u001b[0m\u001b[0;34m,\u001b[0m \u001b[0mo\u001b[0m\u001b[0;34m.\u001b[0m\u001b[0m_get_axis_number\u001b[0m\u001b[0;34m(\u001b[0m\u001b[0maxis\u001b[0m\u001b[0;34m)\u001b[0m\u001b[0;34m,\u001b[0m \u001b[0mraise_missing\u001b[0m\u001b[0;34m=\u001b[0m\u001b[0mraise_missing\u001b[0m\u001b[0;34m\u001b[0m\u001b[0;34m\u001b[0m\u001b[0m\n\u001b[0m\u001b[1;32m   1553\u001b[0m         )\n\u001b[1;32m   1554\u001b[0m         \u001b[0;32mreturn\u001b[0m \u001b[0mkeyarr\u001b[0m\u001b[0;34m,\u001b[0m \u001b[0mindexer\u001b[0m\u001b[0;34m\u001b[0m\u001b[0;34m\u001b[0m\u001b[0m\n",
      "\u001b[0;32m~/opt/anaconda3/lib/python3.7/site-packages/pandas/core/indexing.py\u001b[0m in \u001b[0;36m_validate_read_indexer\u001b[0;34m(self, key, indexer, axis, raise_missing)\u001b[0m\n\u001b[1;32m   1637\u001b[0m             \u001b[0;32mif\u001b[0m \u001b[0mmissing\u001b[0m \u001b[0;34m==\u001b[0m \u001b[0mlen\u001b[0m\u001b[0;34m(\u001b[0m\u001b[0mindexer\u001b[0m\u001b[0;34m)\u001b[0m\u001b[0;34m:\u001b[0m\u001b[0;34m\u001b[0m\u001b[0;34m\u001b[0m\u001b[0m\n\u001b[1;32m   1638\u001b[0m                 \u001b[0maxis_name\u001b[0m \u001b[0;34m=\u001b[0m \u001b[0mself\u001b[0m\u001b[0;34m.\u001b[0m\u001b[0mobj\u001b[0m\u001b[0;34m.\u001b[0m\u001b[0m_get_axis_name\u001b[0m\u001b[0;34m(\u001b[0m\u001b[0maxis\u001b[0m\u001b[0;34m)\u001b[0m\u001b[0;34m\u001b[0m\u001b[0;34m\u001b[0m\u001b[0m\n\u001b[0;32m-> 1639\u001b[0;31m                 \u001b[0;32mraise\u001b[0m \u001b[0mKeyError\u001b[0m\u001b[0;34m(\u001b[0m\u001b[0;34mf\"None of [{key}] are in the [{axis_name}]\"\u001b[0m\u001b[0;34m)\u001b[0m\u001b[0;34m\u001b[0m\u001b[0;34m\u001b[0m\u001b[0m\n\u001b[0m\u001b[1;32m   1640\u001b[0m \u001b[0;34m\u001b[0m\u001b[0m\n\u001b[1;32m   1641\u001b[0m             \u001b[0;31m# We (temporarily) allow for some missing keys with .loc, except in\u001b[0m\u001b[0;34m\u001b[0m\u001b[0;34m\u001b[0m\u001b[0;34m\u001b[0m\u001b[0m\n",
      "\u001b[0;31mKeyError\u001b[0m: \"None of [Index(['BB11', 'BB12', 'BB13', 'BB14', 'BB15', 'BB16', 'BB17', 'BB18', 'BB21',\\n       'BB22', 'BB23', 'BB24', 'BB25', 'BB26', 'BB27', 'BB28'],\\n      dtype='object')] are in the [columns]\""
     ]
    }
   ],
   "source": [
    "open_fms('../raw_data/MESTB _009_1B.dlis')"
   ]
  },
  {
   "cell_type": "code",
   "execution_count": null,
   "metadata": {
    "ExecuteTime": {
     "end_time": "2021-09-28T11:42:10.116893Z",
     "start_time": "2021-09-28T11:42:10.074163Z"
    },
    "scrolled": false
   },
   "outputs": [],
   "source": [
    "core_info('../raw_data/1196A_coreinfo.csv')"
   ]
  },
  {
   "cell_type": "code",
   "execution_count": null,
   "metadata": {},
   "outputs": [],
   "source": [
    "filename = '../raw_data/ 194-1196A-10R-1_7.511.tif'\n",
    "slices = crop_slice_image(filename)"
   ]
  }
 ],
 "metadata": {
  "kernelspec": {
   "display_name": "Python 3",
   "language": "python",
   "name": "python3"
  },
  "language_info": {
   "codemirror_mode": {
    "name": "ipython",
    "version": 3
   },
   "file_extension": ".py",
   "mimetype": "text/x-python",
   "name": "python",
   "nbconvert_exporter": "python",
   "pygments_lexer": "ipython3",
   "version": "3.7.6"
  },
  "toc": {
   "base_numbering": 1,
   "nav_menu": {},
   "number_sections": true,
   "sideBar": true,
   "skip_h1_title": false,
   "title_cell": "Table of Contents",
   "title_sidebar": "Contents",
   "toc_cell": false,
   "toc_position": {},
   "toc_section_display": true,
   "toc_window_display": false
  }
 },
 "nbformat": 4,
 "nbformat_minor": 4
}
